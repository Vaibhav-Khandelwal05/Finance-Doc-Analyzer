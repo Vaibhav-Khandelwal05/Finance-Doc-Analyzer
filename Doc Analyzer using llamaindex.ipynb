{
 "cells": [
  {
   "cell_type": "markdown",
   "id": "0f67904b-5fd6-443f-bf10-d49a69b25fcd",
   "metadata": {
    "tags": []
   },
   "source": [
    "# Financial Document Analysis using LlamaIndex"
   ]
  },
  {
   "cell_type": "markdown",
   "id": "1e38922b-10ad-4442-bff3-32ee2a384c4d",
   "metadata": {
    "tags": []
   },
   "source": [
    "## Introduction\n",
    "\n",
    "### LLamaIndex\n",
    "[LlamaIndex](https://gpt-index.readthedocs.io/en/latest/) is a data framework for LLM applications.\n",
    "You can get started with just a few lines of code and build a retrieval-augmented generation (RAG) system in minutes.\n",
    "For more advanced users, LlamaIndex offers a rich toolkit for ingesting and indexing your data, modules for retrieval and re-ranking, and composable components for building custom query engines.\n",
    "\n",
    "\n",
    "### Financial Analysis of Annual Reports\n",
    "A key part of a financial analyst's job is to extract information and synthesize insight from long financial documents.\n",
    "We will be using here Annual reports of Zomato and Tata Motors and figure out some queries related to them.\n",
    "\n",
    "\n",
    "We showcase how LlamaIndex can support a financial analyst in quickly extracting information and synthesize insights **across multiple documents** with very little coding. "
   ]
  },
  {
   "cell_type": "markdown",
   "id": "15284a54-35b3-4129-9a7a-57b7547bfaf4",
   "metadata": {
    "tags": []
   },
   "source": [
    "## To begin, we need to install the llama-index library"
   ]
  },
  {
   "cell_type": "code",
   "execution_count": 1,
   "id": "d1062e24-6177-459a-94e0-8e77b3e0859b",
   "metadata": {
    "tags": []
   },
   "outputs": [
    {
     "name": "stdout",
     "output_type": "stream",
     "text": [
      "Requirement already satisfied: llama-index in c:\\users\\vaibhav\\anaconda3\\lib\\site-packages (0.12.20)\n",
      "Requirement already satisfied: pypdf in c:\\users\\vaibhav\\anaconda3\\lib\\site-packages (5.3.0)\n",
      "Requirement already satisfied: llama-index-question-gen-openai<0.4.0,>=0.3.0 in c:\\users\\vaibhav\\anaconda3\\lib\\site-packages (from llama-index) (0.3.0)\n",
      "Requirement already satisfied: llama-index-cli<0.5.0,>=0.4.0 in c:\\users\\vaibhav\\anaconda3\\lib\\site-packages (from llama-index) (0.4.0)\n",
      "Requirement already satisfied: llama-index-program-openai<0.4.0,>=0.3.0 in c:\\users\\vaibhav\\anaconda3\\lib\\site-packages (from llama-index) (0.3.1)\n",
      "Requirement already satisfied: llama-index-agent-openai<0.5.0,>=0.4.0 in c:\\users\\vaibhav\\anaconda3\\lib\\site-packages (from llama-index) (0.4.6)\n",
      "Requirement already satisfied: llama-index-readers-file<0.5.0,>=0.4.0 in c:\\users\\vaibhav\\anaconda3\\lib\\site-packages (from llama-index) (0.4.5)\n",
      "Requirement already satisfied: llama-index-llms-openai<0.4.0,>=0.3.0 in c:\\users\\vaibhav\\anaconda3\\lib\\site-packages (from llama-index) (0.3.22)\n",
      "Requirement already satisfied: nltk>3.8.1 in c:\\users\\vaibhav\\anaconda3\\lib\\site-packages (from llama-index) (3.9.1)\n",
      "Requirement already satisfied: llama-index-multi-modal-llms-openai<0.5.0,>=0.4.0 in c:\\users\\vaibhav\\anaconda3\\lib\\site-packages (from llama-index) (0.4.3)\n",
      "Requirement already satisfied: llama-index-core<0.13.0,>=0.12.20 in c:\\users\\vaibhav\\anaconda3\\lib\\site-packages (from llama-index) (0.12.20)\n",
      "Requirement already satisfied: llama-index-embeddings-openai<0.4.0,>=0.3.0 in c:\\users\\vaibhav\\anaconda3\\lib\\site-packages (from llama-index) (0.3.1)\n",
      "Requirement already satisfied: llama-index-indices-managed-llama-cloud>=0.4.0 in c:\\users\\vaibhav\\anaconda3\\lib\\site-packages (from llama-index) (0.6.8)\n",
      "Requirement already satisfied: llama-index-readers-llama-parse>=0.4.0 in c:\\users\\vaibhav\\anaconda3\\lib\\site-packages (from llama-index) (0.4.0)\n",
      "Requirement already satisfied: typing_extensions>=4.0 in c:\\users\\vaibhav\\anaconda3\\lib\\site-packages (from pypdf) (4.12.2)\n",
      "Requirement already satisfied: openai>=1.14.0 in c:\\users\\vaibhav\\anaconda3\\lib\\site-packages (from llama-index-agent-openai<0.5.0,>=0.4.0->llama-index) (1.64.0)\n",
      "Requirement already satisfied: dataclasses-json in c:\\users\\vaibhav\\anaconda3\\lib\\site-packages (from llama-index-core<0.13.0,>=0.12.20->llama-index) (0.6.7)\n",
      "Requirement already satisfied: nest-asyncio<2.0.0,>=1.5.8 in c:\\users\\vaibhav\\anaconda3\\lib\\site-packages (from llama-index-core<0.13.0,>=0.12.20->llama-index) (1.6.0)\n",
      "Requirement already satisfied: httpx in c:\\users\\vaibhav\\anaconda3\\lib\\site-packages (from llama-index-core<0.13.0,>=0.12.20->llama-index) (0.28.1)\n",
      "Requirement already satisfied: pydantic>=2.8.0 in c:\\users\\vaibhav\\anaconda3\\lib\\site-packages (from llama-index-core<0.13.0,>=0.12.20->llama-index) (2.10.6)\n",
      "Requirement already satisfied: filetype<2.0.0,>=1.2.0 in c:\\users\\vaibhav\\anaconda3\\lib\\site-packages (from llama-index-core<0.13.0,>=0.12.20->llama-index) (1.2.0)\n",
      "Requirement already satisfied: SQLAlchemy[asyncio]>=1.4.49 in c:\\users\\vaibhav\\anaconda3\\lib\\site-packages (from llama-index-core<0.13.0,>=0.12.20->llama-index) (2.0.38)\n",
      "Requirement already satisfied: aiohttp<4.0.0,>=3.8.6 in c:\\users\\vaibhav\\anaconda3\\lib\\site-packages (from llama-index-core<0.13.0,>=0.12.20->llama-index) (3.11.13)\n",
      "Requirement already satisfied: tqdm<5.0.0,>=4.66.1 in c:\\users\\vaibhav\\anaconda3\\lib\\site-packages (from llama-index-core<0.13.0,>=0.12.20->llama-index) (4.67.1)\n",
      "Requirement already satisfied: pillow>=9.0.0 in c:\\users\\vaibhav\\anaconda3\\lib\\site-packages (from llama-index-core<0.13.0,>=0.12.20->llama-index) (9.2.0)\n",
      "Requirement already satisfied: networkx>=3.0 in c:\\users\\vaibhav\\anaconda3\\lib\\site-packages (from llama-index-core<0.13.0,>=0.12.20->llama-index) (3.2.1)\n",
      "Requirement already satisfied: numpy in c:\\users\\vaibhav\\anaconda3\\lib\\site-packages (from llama-index-core<0.13.0,>=0.12.20->llama-index) (1.26.4)\n",
      "Requirement already satisfied: fsspec>=2023.5.0 in c:\\users\\vaibhav\\anaconda3\\lib\\site-packages (from llama-index-core<0.13.0,>=0.12.20->llama-index) (2025.2.0)\n",
      "Requirement already satisfied: PyYAML>=6.0.1 in c:\\users\\vaibhav\\anaconda3\\lib\\site-packages (from llama-index-core<0.13.0,>=0.12.20->llama-index) (6.0.2)\n",
      "Requirement already satisfied: dirtyjson<2.0.0,>=1.0.8 in c:\\users\\vaibhav\\anaconda3\\lib\\site-packages (from llama-index-core<0.13.0,>=0.12.20->llama-index) (1.0.8)\n",
      "Requirement already satisfied: deprecated>=1.2.9.3 in c:\\users\\vaibhav\\anaconda3\\lib\\site-packages (from llama-index-core<0.13.0,>=0.12.20->llama-index) (1.2.18)\n",
      "Requirement already satisfied: typing-inspect>=0.8.0 in c:\\users\\vaibhav\\anaconda3\\lib\\site-packages (from llama-index-core<0.13.0,>=0.12.20->llama-index) (0.9.0)\n",
      "Requirement already satisfied: tiktoken>=0.3.3 in c:\\users\\vaibhav\\anaconda3\\lib\\site-packages (from llama-index-core<0.13.0,>=0.12.20->llama-index) (0.9.0)\n",
      "Requirement already satisfied: eval-type-backport<0.3.0,>=0.2.0 in c:\\users\\vaibhav\\anaconda3\\lib\\site-packages (from llama-index-core<0.13.0,>=0.12.20->llama-index) (0.2.2)\n",
      "Requirement already satisfied: requests>=2.31.0 in c:\\users\\vaibhav\\anaconda3\\lib\\site-packages (from llama-index-core<0.13.0,>=0.12.20->llama-index) (2.32.3)\n",
      "Requirement already satisfied: tenacity!=8.4.0,<10.0.0,>=8.2.0 in c:\\users\\vaibhav\\anaconda3\\lib\\site-packages (from llama-index-core<0.13.0,>=0.12.20->llama-index) (9.0.0)\n",
      "Requirement already satisfied: wrapt in c:\\users\\vaibhav\\anaconda3\\lib\\site-packages (from llama-index-core<0.13.0,>=0.12.20->llama-index) (1.14.1)\n",
      "Requirement already satisfied: llama-cloud<0.2.0,>=0.1.13 in c:\\users\\vaibhav\\anaconda3\\lib\\site-packages (from llama-index-indices-managed-llama-cloud>=0.4.0->llama-index) (0.1.13)\n",
      "Requirement already satisfied: pandas in c:\\users\\vaibhav\\anaconda3\\lib\\site-packages (from llama-index-readers-file<0.5.0,>=0.4.0->llama-index) (1.4.4)\n",
      "Requirement already satisfied: striprtf<0.0.27,>=0.0.26 in c:\\users\\vaibhav\\anaconda3\\lib\\site-packages (from llama-index-readers-file<0.5.0,>=0.4.0->llama-index) (0.0.26)\n",
      "Requirement already satisfied: beautifulsoup4<5.0.0,>=4.12.3 in c:\\users\\vaibhav\\anaconda3\\lib\\site-packages (from llama-index-readers-file<0.5.0,>=0.4.0->llama-index) (4.13.3)\n",
      "Requirement already satisfied: llama-parse>=0.5.0 in c:\\users\\vaibhav\\anaconda3\\lib\\site-packages (from llama-index-readers-llama-parse>=0.4.0->llama-index) (0.6.2)\n",
      "Requirement already satisfied: click in c:\\users\\vaibhav\\anaconda3\\lib\\site-packages (from nltk>3.8.1->llama-index) (8.1.8)\n",
      "Requirement already satisfied: joblib in c:\\users\\vaibhav\\anaconda3\\lib\\site-packages (from nltk>3.8.1->llama-index) (1.3.2)\n",
      "Requirement already satisfied: regex>=2021.8.3 in c:\\users\\vaibhav\\anaconda3\\lib\\site-packages (from nltk>3.8.1->llama-index) (2022.7.9)\n",
      "Requirement already satisfied: aiohappyeyeballs>=2.3.0 in c:\\users\\vaibhav\\anaconda3\\lib\\site-packages (from aiohttp<4.0.0,>=3.8.6->llama-index-core<0.13.0,>=0.12.20->llama-index) (2.4.6)\n",
      "Requirement already satisfied: frozenlist>=1.1.1 in c:\\users\\vaibhav\\anaconda3\\lib\\site-packages (from aiohttp<4.0.0,>=3.8.6->llama-index-core<0.13.0,>=0.12.20->llama-index) (1.5.0)\n",
      "Requirement already satisfied: multidict<7.0,>=4.5 in c:\\users\\vaibhav\\anaconda3\\lib\\site-packages (from aiohttp<4.0.0,>=3.8.6->llama-index-core<0.13.0,>=0.12.20->llama-index) (6.1.0)\n",
      "Requirement already satisfied: attrs>=17.3.0 in c:\\users\\vaibhav\\anaconda3\\lib\\site-packages (from aiohttp<4.0.0,>=3.8.6->llama-index-core<0.13.0,>=0.12.20->llama-index) (21.4.0)\n",
      "Requirement already satisfied: yarl<2.0,>=1.17.0 in c:\\users\\vaibhav\\anaconda3\\lib\\site-packages (from aiohttp<4.0.0,>=3.8.6->llama-index-core<0.13.0,>=0.12.20->llama-index) (1.18.3)\n",
      "Requirement already satisfied: aiosignal>=1.1.2 in c:\\users\\vaibhav\\anaconda3\\lib\\site-packages (from aiohttp<4.0.0,>=3.8.6->llama-index-core<0.13.0,>=0.12.20->llama-index) (1.3.2)\n",
      "Requirement already satisfied: async-timeout<6.0,>=4.0 in c:\\users\\vaibhav\\anaconda3\\lib\\site-packages (from aiohttp<4.0.0,>=3.8.6->llama-index-core<0.13.0,>=0.12.20->llama-index) (4.0.3)\n",
      "Requirement already satisfied: propcache>=0.2.0 in c:\\users\\vaibhav\\anaconda3\\lib\\site-packages (from aiohttp<4.0.0,>=3.8.6->llama-index-core<0.13.0,>=0.12.20->llama-index) (0.3.0)\n",
      "Requirement already satisfied: soupsieve>1.2 in c:\\users\\vaibhav\\anaconda3\\lib\\site-packages (from beautifulsoup4<5.0.0,>=4.12.3->llama-index-readers-file<0.5.0,>=0.4.0->llama-index) (2.3.1)\n",
      "Requirement already satisfied: certifi>=2024.7.4 in c:\\users\\vaibhav\\anaconda3\\lib\\site-packages (from llama-cloud<0.2.0,>=0.1.13->llama-index-indices-managed-llama-cloud>=0.4.0->llama-index) (2025.1.31)\n",
      "Requirement already satisfied: httpcore==1.* in c:\\users\\vaibhav\\anaconda3\\lib\\site-packages (from httpx->llama-index-core<0.13.0,>=0.12.20->llama-index) (1.0.7)\n",
      "Requirement already satisfied: idna in c:\\users\\vaibhav\\anaconda3\\lib\\site-packages (from httpx->llama-index-core<0.13.0,>=0.12.20->llama-index) (3.3)\n",
      "Requirement already satisfied: anyio in c:\\users\\vaibhav\\anaconda3\\lib\\site-packages (from httpx->llama-index-core<0.13.0,>=0.12.20->llama-index) (3.5.0)\n",
      "Requirement already satisfied: h11<0.15,>=0.13 in c:\\users\\vaibhav\\anaconda3\\lib\\site-packages (from httpcore==1.*->httpx->llama-index-core<0.13.0,>=0.12.20->llama-index) (0.14.0)\n",
      "Requirement already satisfied: llama-cloud-services>=0.6.2 in c:\\users\\vaibhav\\anaconda3\\lib\\site-packages (from llama-parse>=0.5.0->llama-index-readers-llama-parse>=0.4.0->llama-index) (0.6.3)\n",
      "Requirement already satisfied: sniffio in c:\\users\\vaibhav\\anaconda3\\lib\\site-packages (from openai>=1.14.0->llama-index-agent-openai<0.5.0,>=0.4.0->llama-index) (1.2.0)\n",
      "Requirement already satisfied: distro<2,>=1.7.0 in c:\\users\\vaibhav\\anaconda3\\lib\\site-packages (from openai>=1.14.0->llama-index-agent-openai<0.5.0,>=0.4.0->llama-index) (1.9.0)\n",
      "Requirement already satisfied: jiter<1,>=0.4.0 in c:\\users\\vaibhav\\anaconda3\\lib\\site-packages (from openai>=1.14.0->llama-index-agent-openai<0.5.0,>=0.4.0->llama-index) (0.8.2)\n",
      "Requirement already satisfied: annotated-types>=0.6.0 in c:\\users\\vaibhav\\anaconda3\\lib\\site-packages (from pydantic>=2.8.0->llama-index-core<0.13.0,>=0.12.20->llama-index) (0.7.0)\n",
      "Requirement already satisfied: pydantic-core==2.27.2 in c:\\users\\vaibhav\\anaconda3\\lib\\site-packages (from pydantic>=2.8.0->llama-index-core<0.13.0,>=0.12.20->llama-index) (2.27.2)\n",
      "Requirement already satisfied: charset-normalizer<4,>=2 in c:\\users\\vaibhav\\anaconda3\\lib\\site-packages (from requests>=2.31.0->llama-index-core<0.13.0,>=0.12.20->llama-index) (2.0.4)\n",
      "Requirement already satisfied: urllib3<3,>=1.21.1 in c:\\users\\vaibhav\\anaconda3\\lib\\site-packages (from requests>=2.31.0->llama-index-core<0.13.0,>=0.12.20->llama-index) (1.26.11)\n",
      "Requirement already satisfied: greenlet!=0.4.17 in c:\\users\\vaibhav\\anaconda3\\lib\\site-packages (from SQLAlchemy[asyncio]>=1.4.49->llama-index-core<0.13.0,>=0.12.20->llama-index) (1.1.1)\n",
      "Requirement already satisfied: colorama in c:\\users\\vaibhav\\anaconda3\\lib\\site-packages (from tqdm<5.0.0,>=4.66.1->llama-index-core<0.13.0,>=0.12.20->llama-index) (0.4.6)\n",
      "Requirement already satisfied: mypy-extensions>=0.3.0 in c:\\users\\vaibhav\\anaconda3\\lib\\site-packages (from typing-inspect>=0.8.0->llama-index-core<0.13.0,>=0.12.20->llama-index) (0.4.3)\n",
      "Requirement already satisfied: marshmallow<4.0.0,>=3.18.0 in c:\\users\\vaibhav\\anaconda3\\lib\\site-packages (from dataclasses-json->llama-index-core<0.13.0,>=0.12.20->llama-index) (3.26.1)\n",
      "Requirement already satisfied: python-dateutil>=2.8.1 in c:\\users\\vaibhav\\anaconda3\\lib\\site-packages (from pandas->llama-index-readers-file<0.5.0,>=0.4.0->llama-index) (2.8.2)\n",
      "Requirement already satisfied: pytz>=2020.1 in c:\\users\\vaibhav\\anaconda3\\lib\\site-packages (from pandas->llama-index-readers-file<0.5.0,>=0.4.0->llama-index) (2022.1)\n",
      "Requirement already satisfied: python-dotenv<2.0.0,>=1.0.1 in c:\\users\\vaibhav\\anaconda3\\lib\\site-packages (from llama-cloud-services>=0.6.2->llama-parse>=0.5.0->llama-index-readers-llama-parse>=0.4.0->llama-index) (1.0.1)\n",
      "Requirement already satisfied: packaging>=17.0 in c:\\users\\vaibhav\\anaconda3\\lib\\site-packages (from marshmallow<4.0.0,>=3.18.0->dataclasses-json->llama-index-core<0.13.0,>=0.12.20->llama-index) (24.2)\n",
      "Requirement already satisfied: six>=1.5 in c:\\users\\vaibhav\\anaconda3\\lib\\site-packages (from python-dateutil>=2.8.1->pandas->llama-index-readers-file<0.5.0,>=0.4.0->llama-index) (1.16.0)\n"
     ]
    }
   ],
   "source": [
    "!pip install llama-index pypdf"
   ]
  },
  {
   "cell_type": "markdown",
   "id": "f51cb5df-9c98-44d8-8c69-1a0b784de3e3",
   "metadata": {},
   "source": [
    "Now, we import all modules used in this tutorial"
   ]
  },
  {
   "cell_type": "code",
   "execution_count": 2,
   "id": "09fbec4c-1864-4d76-9dbf-3d213ba58fc8",
   "metadata": {
    "tags": []
   },
   "outputs": [
    {
     "name": "stdout",
     "output_type": "stream",
     "text": [
      "Requirement already satisfied: langchain in c:\\users\\vaibhav\\anaconda3\\lib\\site-packages (0.3.19)\n",
      "Requirement already satisfied: langsmith<0.4,>=0.1.17 in c:\\users\\vaibhav\\anaconda3\\lib\\site-packages (from langchain) (0.3.11)\n",
      "Requirement already satisfied: requests<3,>=2 in c:\\users\\vaibhav\\anaconda3\\lib\\site-packages (from langchain) (2.32.3)\n",
      "Requirement already satisfied: langchain-core<1.0.0,>=0.3.35 in c:\\users\\vaibhav\\anaconda3\\lib\\site-packages (from langchain) (0.3.40)\n",
      "Requirement already satisfied: aiohttp<4.0.0,>=3.8.3 in c:\\users\\vaibhav\\anaconda3\\lib\\site-packages (from langchain) (3.11.13)\n",
      "Requirement already satisfied: SQLAlchemy<3,>=1.4 in c:\\users\\vaibhav\\anaconda3\\lib\\site-packages (from langchain) (2.0.38)\n",
      "Requirement already satisfied: numpy<2,>=1.26.4 in c:\\users\\vaibhav\\anaconda3\\lib\\site-packages (from langchain) (1.26.4)\n",
      "Requirement already satisfied: async-timeout<5.0.0,>=4.0.0 in c:\\users\\vaibhav\\anaconda3\\lib\\site-packages (from langchain) (4.0.3)\n",
      "Requirement already satisfied: pydantic<3.0.0,>=2.7.4 in c:\\users\\vaibhav\\anaconda3\\lib\\site-packages (from langchain) (2.10.6)\n",
      "Requirement already satisfied: tenacity!=8.4.0,<10,>=8.1.0 in c:\\users\\vaibhav\\anaconda3\\lib\\site-packages (from langchain) (9.0.0)\n",
      "Requirement already satisfied: langchain-text-splitters<1.0.0,>=0.3.6 in c:\\users\\vaibhav\\anaconda3\\lib\\site-packages (from langchain) (0.3.6)\n",
      "Requirement already satisfied: PyYAML>=5.3 in c:\\users\\vaibhav\\anaconda3\\lib\\site-packages (from langchain) (6.0.2)\n",
      "Requirement already satisfied: aiosignal>=1.1.2 in c:\\users\\vaibhav\\anaconda3\\lib\\site-packages (from aiohttp<4.0.0,>=3.8.3->langchain) (1.3.2)\n",
      "Requirement already satisfied: multidict<7.0,>=4.5 in c:\\users\\vaibhav\\anaconda3\\lib\\site-packages (from aiohttp<4.0.0,>=3.8.3->langchain) (6.1.0)\n",
      "Requirement already satisfied: attrs>=17.3.0 in c:\\users\\vaibhav\\anaconda3\\lib\\site-packages (from aiohttp<4.0.0,>=3.8.3->langchain) (21.4.0)\n",
      "Requirement already satisfied: yarl<2.0,>=1.17.0 in c:\\users\\vaibhav\\anaconda3\\lib\\site-packages (from aiohttp<4.0.0,>=3.8.3->langchain) (1.18.3)\n",
      "Requirement already satisfied: propcache>=0.2.0 in c:\\users\\vaibhav\\anaconda3\\lib\\site-packages (from aiohttp<4.0.0,>=3.8.3->langchain) (0.3.0)\n",
      "Requirement already satisfied: frozenlist>=1.1.1 in c:\\users\\vaibhav\\anaconda3\\lib\\site-packages (from aiohttp<4.0.0,>=3.8.3->langchain) (1.5.0)\n",
      "Requirement already satisfied: aiohappyeyeballs>=2.3.0 in c:\\users\\vaibhav\\anaconda3\\lib\\site-packages (from aiohttp<4.0.0,>=3.8.3->langchain) (2.4.6)\n",
      "Requirement already satisfied: typing-extensions>=4.7 in c:\\users\\vaibhav\\anaconda3\\lib\\site-packages (from langchain-core<1.0.0,>=0.3.35->langchain) (4.12.2)\n",
      "Requirement already satisfied: packaging<25,>=23.2 in c:\\users\\vaibhav\\anaconda3\\lib\\site-packages (from langchain-core<1.0.0,>=0.3.35->langchain) (24.2)\n",
      "Requirement already satisfied: jsonpatch<2.0,>=1.33 in c:\\users\\vaibhav\\anaconda3\\lib\\site-packages (from langchain-core<1.0.0,>=0.3.35->langchain) (1.33)\n",
      "Requirement already satisfied: orjson<4.0.0,>=3.9.14 in c:\\users\\vaibhav\\anaconda3\\lib\\site-packages (from langsmith<0.4,>=0.1.17->langchain) (3.10.15)\n",
      "Requirement already satisfied: zstandard<0.24.0,>=0.23.0 in c:\\users\\vaibhav\\anaconda3\\lib\\site-packages (from langsmith<0.4,>=0.1.17->langchain) (0.23.0)\n",
      "Requirement already satisfied: requests-toolbelt<2.0.0,>=1.0.0 in c:\\users\\vaibhav\\anaconda3\\lib\\site-packages (from langsmith<0.4,>=0.1.17->langchain) (1.0.0)\n",
      "Requirement already satisfied: httpx<1,>=0.23.0 in c:\\users\\vaibhav\\anaconda3\\lib\\site-packages (from langsmith<0.4,>=0.1.17->langchain) (0.28.1)\n",
      "Requirement already satisfied: pydantic-core==2.27.2 in c:\\users\\vaibhav\\anaconda3\\lib\\site-packages (from pydantic<3.0.0,>=2.7.4->langchain) (2.27.2)\n",
      "Requirement already satisfied: annotated-types>=0.6.0 in c:\\users\\vaibhav\\anaconda3\\lib\\site-packages (from pydantic<3.0.0,>=2.7.4->langchain) (0.7.0)\n",
      "Requirement already satisfied: idna<4,>=2.5 in c:\\users\\vaibhav\\anaconda3\\lib\\site-packages (from requests<3,>=2->langchain) (3.3)\n",
      "Requirement already satisfied: charset-normalizer<4,>=2 in c:\\users\\vaibhav\\anaconda3\\lib\\site-packages (from requests<3,>=2->langchain) (2.0.4)\n",
      "Requirement already satisfied: certifi>=2017.4.17 in c:\\users\\vaibhav\\anaconda3\\lib\\site-packages (from requests<3,>=2->langchain) (2025.1.31)\n",
      "Requirement already satisfied: urllib3<3,>=1.21.1 in c:\\users\\vaibhav\\anaconda3\\lib\\site-packages (from requests<3,>=2->langchain) (1.26.11)\n",
      "Requirement already satisfied: greenlet!=0.4.17 in c:\\users\\vaibhav\\anaconda3\\lib\\site-packages (from SQLAlchemy<3,>=1.4->langchain) (1.1.1)\n",
      "Requirement already satisfied: httpcore==1.* in c:\\users\\vaibhav\\anaconda3\\lib\\site-packages (from httpx<1,>=0.23.0->langsmith<0.4,>=0.1.17->langchain) (1.0.7)\n",
      "Requirement already satisfied: anyio in c:\\users\\vaibhav\\anaconda3\\lib\\site-packages (from httpx<1,>=0.23.0->langsmith<0.4,>=0.1.17->langchain) (3.5.0)\n",
      "Requirement already satisfied: h11<0.15,>=0.13 in c:\\users\\vaibhav\\anaconda3\\lib\\site-packages (from httpcore==1.*->httpx<1,>=0.23.0->langsmith<0.4,>=0.1.17->langchain) (0.14.0)\n",
      "Requirement already satisfied: jsonpointer>=1.9 in c:\\users\\vaibhav\\anaconda3\\lib\\site-packages (from jsonpatch<2.0,>=1.33->langchain-core<1.0.0,>=0.3.35->langchain) (3.0.0)\n",
      "Requirement already satisfied: sniffio>=1.1 in c:\\users\\vaibhav\\anaconda3\\lib\\site-packages (from anyio->httpx<1,>=0.23.0->langsmith<0.4,>=0.1.17->langchain) (1.2.0)\n",
      "Requirement already satisfied: llama-index in c:\\users\\vaibhav\\anaconda3\\lib\\site-packages (0.12.20)\n",
      "Requirement already satisfied: llama-index-core<0.13.0,>=0.12.20 in c:\\users\\vaibhav\\anaconda3\\lib\\site-packages (from llama-index) (0.12.20)\n",
      "Requirement already satisfied: llama-index-indices-managed-llama-cloud>=0.4.0 in c:\\users\\vaibhav\\anaconda3\\lib\\site-packages (from llama-index) (0.6.8)\n",
      "Requirement already satisfied: nltk>3.8.1 in c:\\users\\vaibhav\\anaconda3\\lib\\site-packages (from llama-index) (3.9.1)\n",
      "Requirement already satisfied: llama-index-question-gen-openai<0.4.0,>=0.3.0 in c:\\users\\vaibhav\\anaconda3\\lib\\site-packages (from llama-index) (0.3.0)\n",
      "Requirement already satisfied: llama-index-agent-openai<0.5.0,>=0.4.0 in c:\\users\\vaibhav\\anaconda3\\lib\\site-packages (from llama-index) (0.4.6)\n",
      "Requirement already satisfied: llama-index-cli<0.5.0,>=0.4.0 in c:\\users\\vaibhav\\anaconda3\\lib\\site-packages (from llama-index) (0.4.0)\n",
      "Requirement already satisfied: llama-index-readers-file<0.5.0,>=0.4.0 in c:\\users\\vaibhav\\anaconda3\\lib\\site-packages (from llama-index) (0.4.5)\n",
      "Requirement already satisfied: llama-index-multi-modal-llms-openai<0.5.0,>=0.4.0 in c:\\users\\vaibhav\\anaconda3\\lib\\site-packages (from llama-index) (0.4.3)\n",
      "Requirement already satisfied: llama-index-readers-llama-parse>=0.4.0 in c:\\users\\vaibhav\\anaconda3\\lib\\site-packages (from llama-index) (0.4.0)\n",
      "Requirement already satisfied: llama-index-program-openai<0.4.0,>=0.3.0 in c:\\users\\vaibhav\\anaconda3\\lib\\site-packages (from llama-index) (0.3.1)\n",
      "Requirement already satisfied: llama-index-embeddings-openai<0.4.0,>=0.3.0 in c:\\users\\vaibhav\\anaconda3\\lib\\site-packages (from llama-index) (0.3.1)\n",
      "Requirement already satisfied: llama-index-llms-openai<0.4.0,>=0.3.0 in c:\\users\\vaibhav\\anaconda3\\lib\\site-packages (from llama-index) (0.3.22)\n",
      "Requirement already satisfied: openai>=1.14.0 in c:\\users\\vaibhav\\anaconda3\\lib\\site-packages (from llama-index-agent-openai<0.5.0,>=0.4.0->llama-index) (1.64.0)\n",
      "Requirement already satisfied: dataclasses-json in c:\\users\\vaibhav\\anaconda3\\lib\\site-packages (from llama-index-core<0.13.0,>=0.12.20->llama-index) (0.6.7)\n",
      "Requirement already satisfied: typing-inspect>=0.8.0 in c:\\users\\vaibhav\\anaconda3\\lib\\site-packages (from llama-index-core<0.13.0,>=0.12.20->llama-index) (0.9.0)\n",
      "Requirement already satisfied: networkx>=3.0 in c:\\users\\vaibhav\\anaconda3\\lib\\site-packages (from llama-index-core<0.13.0,>=0.12.20->llama-index) (3.2.1)\n",
      "Requirement already satisfied: pydantic>=2.8.0 in c:\\users\\vaibhav\\anaconda3\\lib\\site-packages (from llama-index-core<0.13.0,>=0.12.20->llama-index) (2.10.6)\n",
      "Requirement already satisfied: nest-asyncio<2.0.0,>=1.5.8 in c:\\users\\vaibhav\\anaconda3\\lib\\site-packages (from llama-index-core<0.13.0,>=0.12.20->llama-index) (1.6.0)\n",
      "Requirement already satisfied: tqdm<5.0.0,>=4.66.1 in c:\\users\\vaibhav\\anaconda3\\lib\\site-packages (from llama-index-core<0.13.0,>=0.12.20->llama-index) (4.67.1)\n",
      "Requirement already satisfied: tenacity!=8.4.0,<10.0.0,>=8.2.0 in c:\\users\\vaibhav\\anaconda3\\lib\\site-packages (from llama-index-core<0.13.0,>=0.12.20->llama-index) (9.0.0)\n",
      "Requirement already satisfied: eval-type-backport<0.3.0,>=0.2.0 in c:\\users\\vaibhav\\anaconda3\\lib\\site-packages (from llama-index-core<0.13.0,>=0.12.20->llama-index) (0.2.2)\n",
      "Requirement already satisfied: tiktoken>=0.3.3 in c:\\users\\vaibhav\\anaconda3\\lib\\site-packages (from llama-index-core<0.13.0,>=0.12.20->llama-index) (0.9.0)\n",
      "Requirement already satisfied: filetype<2.0.0,>=1.2.0 in c:\\users\\vaibhav\\anaconda3\\lib\\site-packages (from llama-index-core<0.13.0,>=0.12.20->llama-index) (1.2.0)\n",
      "Requirement already satisfied: typing-extensions>=4.5.0 in c:\\users\\vaibhav\\anaconda3\\lib\\site-packages (from llama-index-core<0.13.0,>=0.12.20->llama-index) (4.12.2)\n",
      "Requirement already satisfied: fsspec>=2023.5.0 in c:\\users\\vaibhav\\anaconda3\\lib\\site-packages (from llama-index-core<0.13.0,>=0.12.20->llama-index) (2025.2.0)\n",
      "Requirement already satisfied: numpy in c:\\users\\vaibhav\\anaconda3\\lib\\site-packages (from llama-index-core<0.13.0,>=0.12.20->llama-index) (1.26.4)\n",
      "Requirement already satisfied: deprecated>=1.2.9.3 in c:\\users\\vaibhav\\anaconda3\\lib\\site-packages (from llama-index-core<0.13.0,>=0.12.20->llama-index) (1.2.18)\n",
      "Requirement already satisfied: dirtyjson<2.0.0,>=1.0.8 in c:\\users\\vaibhav\\anaconda3\\lib\\site-packages (from llama-index-core<0.13.0,>=0.12.20->llama-index) (1.0.8)\n",
      "Requirement already satisfied: PyYAML>=6.0.1 in c:\\users\\vaibhav\\anaconda3\\lib\\site-packages (from llama-index-core<0.13.0,>=0.12.20->llama-index) (6.0.2)\n",
      "Requirement already satisfied: pillow>=9.0.0 in c:\\users\\vaibhav\\anaconda3\\lib\\site-packages (from llama-index-core<0.13.0,>=0.12.20->llama-index) (9.2.0)\n",
      "Requirement already satisfied: httpx in c:\\users\\vaibhav\\anaconda3\\lib\\site-packages (from llama-index-core<0.13.0,>=0.12.20->llama-index) (0.28.1)\n",
      "Requirement already satisfied: wrapt in c:\\users\\vaibhav\\anaconda3\\lib\\site-packages (from llama-index-core<0.13.0,>=0.12.20->llama-index) (1.14.1)\n",
      "Requirement already satisfied: aiohttp<4.0.0,>=3.8.6 in c:\\users\\vaibhav\\anaconda3\\lib\\site-packages (from llama-index-core<0.13.0,>=0.12.20->llama-index) (3.11.13)\n",
      "Requirement already satisfied: SQLAlchemy[asyncio]>=1.4.49 in c:\\users\\vaibhav\\anaconda3\\lib\\site-packages (from llama-index-core<0.13.0,>=0.12.20->llama-index) (2.0.38)\n",
      "Requirement already satisfied: requests>=2.31.0 in c:\\users\\vaibhav\\anaconda3\\lib\\site-packages (from llama-index-core<0.13.0,>=0.12.20->llama-index) (2.32.3)\n",
      "Requirement already satisfied: llama-cloud<0.2.0,>=0.1.13 in c:\\users\\vaibhav\\anaconda3\\lib\\site-packages (from llama-index-indices-managed-llama-cloud>=0.4.0->llama-index) (0.1.13)\n",
      "Requirement already satisfied: pypdf<6.0.0,>=5.1.0 in c:\\users\\vaibhav\\anaconda3\\lib\\site-packages (from llama-index-readers-file<0.5.0,>=0.4.0->llama-index) (5.3.0)\n",
      "Requirement already satisfied: pandas in c:\\users\\vaibhav\\anaconda3\\lib\\site-packages (from llama-index-readers-file<0.5.0,>=0.4.0->llama-index) (1.4.4)\n",
      "Requirement already satisfied: beautifulsoup4<5.0.0,>=4.12.3 in c:\\users\\vaibhav\\anaconda3\\lib\\site-packages (from llama-index-readers-file<0.5.0,>=0.4.0->llama-index) (4.13.3)\n",
      "Requirement already satisfied: striprtf<0.0.27,>=0.0.26 in c:\\users\\vaibhav\\anaconda3\\lib\\site-packages (from llama-index-readers-file<0.5.0,>=0.4.0->llama-index) (0.0.26)\n",
      "Requirement already satisfied: llama-parse>=0.5.0 in c:\\users\\vaibhav\\anaconda3\\lib\\site-packages (from llama-index-readers-llama-parse>=0.4.0->llama-index) (0.6.2)\n",
      "Requirement already satisfied: regex>=2021.8.3 in c:\\users\\vaibhav\\anaconda3\\lib\\site-packages (from nltk>3.8.1->llama-index) (2022.7.9)\n",
      "Requirement already satisfied: joblib in c:\\users\\vaibhav\\anaconda3\\lib\\site-packages (from nltk>3.8.1->llama-index) (1.3.2)\n",
      "Requirement already satisfied: click in c:\\users\\vaibhav\\anaconda3\\lib\\site-packages (from nltk>3.8.1->llama-index) (8.1.8)\n",
      "Requirement already satisfied: yarl<2.0,>=1.17.0 in c:\\users\\vaibhav\\anaconda3\\lib\\site-packages (from aiohttp<4.0.0,>=3.8.6->llama-index-core<0.13.0,>=0.12.20->llama-index) (1.18.3)\n",
      "Requirement already satisfied: async-timeout<6.0,>=4.0 in c:\\users\\vaibhav\\anaconda3\\lib\\site-packages (from aiohttp<4.0.0,>=3.8.6->llama-index-core<0.13.0,>=0.12.20->llama-index) (4.0.3)\n",
      "Requirement already satisfied: aiohappyeyeballs>=2.3.0 in c:\\users\\vaibhav\\anaconda3\\lib\\site-packages (from aiohttp<4.0.0,>=3.8.6->llama-index-core<0.13.0,>=0.12.20->llama-index) (2.4.6)\n",
      "Requirement already satisfied: multidict<7.0,>=4.5 in c:\\users\\vaibhav\\anaconda3\\lib\\site-packages (from aiohttp<4.0.0,>=3.8.6->llama-index-core<0.13.0,>=0.12.20->llama-index) (6.1.0)\n",
      "Requirement already satisfied: attrs>=17.3.0 in c:\\users\\vaibhav\\anaconda3\\lib\\site-packages (from aiohttp<4.0.0,>=3.8.6->llama-index-core<0.13.0,>=0.12.20->llama-index) (21.4.0)\n",
      "Requirement already satisfied: propcache>=0.2.0 in c:\\users\\vaibhav\\anaconda3\\lib\\site-packages (from aiohttp<4.0.0,>=3.8.6->llama-index-core<0.13.0,>=0.12.20->llama-index) (0.3.0)\n",
      "Requirement already satisfied: frozenlist>=1.1.1 in c:\\users\\vaibhav\\anaconda3\\lib\\site-packages (from aiohttp<4.0.0,>=3.8.6->llama-index-core<0.13.0,>=0.12.20->llama-index) (1.5.0)\n",
      "Requirement already satisfied: aiosignal>=1.1.2 in c:\\users\\vaibhav\\anaconda3\\lib\\site-packages (from aiohttp<4.0.0,>=3.8.6->llama-index-core<0.13.0,>=0.12.20->llama-index) (1.3.2)\n",
      "Requirement already satisfied: soupsieve>1.2 in c:\\users\\vaibhav\\anaconda3\\lib\\site-packages (from beautifulsoup4<5.0.0,>=4.12.3->llama-index-readers-file<0.5.0,>=0.4.0->llama-index) (2.3.1)\n",
      "Requirement already satisfied: certifi>=2024.7.4 in c:\\users\\vaibhav\\anaconda3\\lib\\site-packages (from llama-cloud<0.2.0,>=0.1.13->llama-index-indices-managed-llama-cloud>=0.4.0->llama-index) (2025.1.31)\n",
      "Requirement already satisfied: idna in c:\\users\\vaibhav\\anaconda3\\lib\\site-packages (from httpx->llama-index-core<0.13.0,>=0.12.20->llama-index) (3.3)\n",
      "Requirement already satisfied: httpcore==1.* in c:\\users\\vaibhav\\anaconda3\\lib\\site-packages (from httpx->llama-index-core<0.13.0,>=0.12.20->llama-index) (1.0.7)\n",
      "Requirement already satisfied: anyio in c:\\users\\vaibhav\\anaconda3\\lib\\site-packages (from httpx->llama-index-core<0.13.0,>=0.12.20->llama-index) (3.5.0)\n",
      "Requirement already satisfied: h11<0.15,>=0.13 in c:\\users\\vaibhav\\anaconda3\\lib\\site-packages (from httpcore==1.*->httpx->llama-index-core<0.13.0,>=0.12.20->llama-index) (0.14.0)\n",
      "Requirement already satisfied: llama-cloud-services>=0.6.2 in c:\\users\\vaibhav\\anaconda3\\lib\\site-packages (from llama-parse>=0.5.0->llama-index-readers-llama-parse>=0.4.0->llama-index) (0.6.3)\n",
      "Requirement already satisfied: sniffio in c:\\users\\vaibhav\\anaconda3\\lib\\site-packages (from openai>=1.14.0->llama-index-agent-openai<0.5.0,>=0.4.0->llama-index) (1.2.0)\n",
      "Requirement already satisfied: distro<2,>=1.7.0 in c:\\users\\vaibhav\\anaconda3\\lib\\site-packages (from openai>=1.14.0->llama-index-agent-openai<0.5.0,>=0.4.0->llama-index) (1.9.0)\n",
      "Requirement already satisfied: jiter<1,>=0.4.0 in c:\\users\\vaibhav\\anaconda3\\lib\\site-packages (from openai>=1.14.0->llama-index-agent-openai<0.5.0,>=0.4.0->llama-index) (0.8.2)\n",
      "Requirement already satisfied: pydantic-core==2.27.2 in c:\\users\\vaibhav\\anaconda3\\lib\\site-packages (from pydantic>=2.8.0->llama-index-core<0.13.0,>=0.12.20->llama-index) (2.27.2)\n",
      "Requirement already satisfied: annotated-types>=0.6.0 in c:\\users\\vaibhav\\anaconda3\\lib\\site-packages (from pydantic>=2.8.0->llama-index-core<0.13.0,>=0.12.20->llama-index) (0.7.0)\n",
      "Requirement already satisfied: charset-normalizer<4,>=2 in c:\\users\\vaibhav\\anaconda3\\lib\\site-packages (from requests>=2.31.0->llama-index-core<0.13.0,>=0.12.20->llama-index) (2.0.4)\n",
      "Requirement already satisfied: urllib3<3,>=1.21.1 in c:\\users\\vaibhav\\anaconda3\\lib\\site-packages (from requests>=2.31.0->llama-index-core<0.13.0,>=0.12.20->llama-index) (1.26.11)\n",
      "Requirement already satisfied: greenlet!=0.4.17 in c:\\users\\vaibhav\\anaconda3\\lib\\site-packages (from SQLAlchemy[asyncio]>=1.4.49->llama-index-core<0.13.0,>=0.12.20->llama-index) (1.1.1)\n",
      "Requirement already satisfied: colorama in c:\\users\\vaibhav\\anaconda3\\lib\\site-packages (from tqdm<5.0.0,>=4.66.1->llama-index-core<0.13.0,>=0.12.20->llama-index) (0.4.6)\n",
      "Requirement already satisfied: mypy-extensions>=0.3.0 in c:\\users\\vaibhav\\anaconda3\\lib\\site-packages (from typing-inspect>=0.8.0->llama-index-core<0.13.0,>=0.12.20->llama-index) (0.4.3)\n",
      "Requirement already satisfied: marshmallow<4.0.0,>=3.18.0 in c:\\users\\vaibhav\\anaconda3\\lib\\site-packages (from dataclasses-json->llama-index-core<0.13.0,>=0.12.20->llama-index) (3.26.1)\n",
      "Requirement already satisfied: pytz>=2020.1 in c:\\users\\vaibhav\\anaconda3\\lib\\site-packages (from pandas->llama-index-readers-file<0.5.0,>=0.4.0->llama-index) (2022.1)\n",
      "Requirement already satisfied: python-dateutil>=2.8.1 in c:\\users\\vaibhav\\anaconda3\\lib\\site-packages (from pandas->llama-index-readers-file<0.5.0,>=0.4.0->llama-index) (2.8.2)\n",
      "Requirement already satisfied: python-dotenv<2.0.0,>=1.0.1 in c:\\users\\vaibhav\\anaconda3\\lib\\site-packages (from llama-cloud-services>=0.6.2->llama-parse>=0.5.0->llama-index-readers-llama-parse>=0.4.0->llama-index) (1.0.1)\n",
      "Requirement already satisfied: packaging>=17.0 in c:\\users\\vaibhav\\anaconda3\\lib\\site-packages (from marshmallow<4.0.0,>=3.18.0->dataclasses-json->llama-index-core<0.13.0,>=0.12.20->llama-index) (24.2)\n",
      "Requirement already satisfied: six>=1.5 in c:\\users\\vaibhav\\anaconda3\\lib\\site-packages (from python-dateutil>=2.8.1->pandas->llama-index-readers-file<0.5.0,>=0.4.0->llama-index) (1.16.0)\n"
     ]
    },
    {
     "ename": "ModuleNotFoundError",
     "evalue": "No module named 'langchain_community'",
     "output_type": "error",
     "traceback": [
      "\u001b[1;31m---------------------------------------------------------------------------\u001b[0m",
      "\u001b[1;31mModuleNotFoundError\u001b[0m                       Traceback (most recent call last)",
      "\u001b[1;32m~\\AppData\\Local\\Temp\\ipykernel_9212\\2592819969.py\u001b[0m in \u001b[0;36m<module>\u001b[1;34m\u001b[0m\n\u001b[0;32m      3\u001b[0m \u001b[0mget_ipython\u001b[0m\u001b[1;33m(\u001b[0m\u001b[1;33m)\u001b[0m\u001b[1;33m.\u001b[0m\u001b[0msystem\u001b[0m\u001b[1;33m(\u001b[0m\u001b[1;34m'pip install llama-index'\u001b[0m\u001b[1;33m)\u001b[0m\u001b[1;33m\u001b[0m\u001b[1;33m\u001b[0m\u001b[0m\n\u001b[0;32m      4\u001b[0m \u001b[1;33m\u001b[0m\u001b[0m\n\u001b[1;32m----> 5\u001b[1;33m \u001b[1;32mfrom\u001b[0m \u001b[0mlangchain\u001b[0m \u001b[1;32mimport\u001b[0m \u001b[0mOpenAI\u001b[0m\u001b[1;33m\u001b[0m\u001b[1;33m\u001b[0m\u001b[0m\n\u001b[0m\u001b[0;32m      6\u001b[0m \u001b[1;33m\u001b[0m\u001b[0m\n\u001b[0;32m      7\u001b[0m \u001b[1;32mfrom\u001b[0m \u001b[0mllama_index\u001b[0m \u001b[1;32mimport\u001b[0m \u001b[0mSimpleDirectoryReader\u001b[0m\u001b[1;33m,\u001b[0m \u001b[0mServiceContext\u001b[0m\u001b[1;33m,\u001b[0m \u001b[0mVectorStoreIndex\u001b[0m\u001b[1;33m\u001b[0m\u001b[1;33m\u001b[0m\u001b[0m\n",
      "\u001b[1;32m~\\anaconda3\\lib\\site-packages\\langchain\\__init__.py\u001b[0m in \u001b[0;36m__getattr__\u001b[1;34m(name)\u001b[0m\n\u001b[0;32m    188\u001b[0m         \u001b[1;32mreturn\u001b[0m \u001b[0mModal\u001b[0m\u001b[1;33m\u001b[0m\u001b[1;33m\u001b[0m\u001b[0m\n\u001b[0;32m    189\u001b[0m     \u001b[1;32melif\u001b[0m \u001b[0mname\u001b[0m \u001b[1;33m==\u001b[0m \u001b[1;34m\"OpenAI\"\u001b[0m\u001b[1;33m:\u001b[0m\u001b[1;33m\u001b[0m\u001b[1;33m\u001b[0m\u001b[0m\n\u001b[1;32m--> 190\u001b[1;33m         \u001b[1;32mfrom\u001b[0m \u001b[0mlangchain_community\u001b[0m\u001b[1;33m.\u001b[0m\u001b[0mllms\u001b[0m \u001b[1;32mimport\u001b[0m \u001b[0mOpenAI\u001b[0m\u001b[1;33m\u001b[0m\u001b[1;33m\u001b[0m\u001b[0m\n\u001b[0m\u001b[0;32m    191\u001b[0m \u001b[1;33m\u001b[0m\u001b[0m\n\u001b[0;32m    192\u001b[0m         \u001b[0m_warn_on_import\u001b[0m\u001b[1;33m(\u001b[0m\u001b[0mname\u001b[0m\u001b[1;33m,\u001b[0m \u001b[0mreplacement\u001b[0m\u001b[1;33m=\u001b[0m\u001b[1;34m\"langchain_community.llms.OpenAI\"\u001b[0m\u001b[1;33m)\u001b[0m\u001b[1;33m\u001b[0m\u001b[1;33m\u001b[0m\u001b[0m\n",
      "\u001b[1;31mModuleNotFoundError\u001b[0m: No module named 'langchain_community'"
     ]
    }
   ],
   "source": [
    "!pip install langchain\n",
    "\n",
    "!pip install llama-index\n",
    "\n",
    "from langchain import OpenAI\n",
    "\n",
    "from llama_index import SimpleDirectoryReader, ServiceContext, VectorStoreIndex\n",
    "from llama_index import set_global_service_context\n",
    "from llama_index.response.pprint_utils import pprint_response\n",
    "from llama_index.tools import QueryEngineTool, ToolMetadata\n",
    "from llama_index.query_engine import SubQuestionQueryEngine"
   ]
  },
  {
   "cell_type": "markdown",
   "id": "c743f504-f28c-4802-89b6-ad152b74b0eb",
   "metadata": {
    "tags": []
   },
   "source": [
    "Before we start, we can configure the LLM provider and model that will power our RAG system.  \n",
    "Here, we pick `gpt-3.5-turbo-instruct` from OpenAI.  "
   ]
  },
  {
   "cell_type": "code",
   "execution_count": null,
   "id": "c4ec8b0a-d5fa-4f74-a2cc-5cc52e009bc6",
   "metadata": {
    "tags": []
   },
   "outputs": [],
   "source": [
    "!pip install langchain openai\n",
    "from langchain.llms import OpenAI\n",
    "\n",
    "llm = OpenAI(temperature=0, model_name=\"gpt-3.5-turbo-instruct\", max_tokens=-1)"
   ]
  },
  {
   "cell_type": "markdown",
   "id": "c2810e8c-1c88-49f5-aada-c49eccded166",
   "metadata": {},
   "source": [
    "We construct a `ServiceContext` and set it as the global default, so all subsequent operations that depends on LLM calls will use the model we configured here."
   ]
  },
  {
   "cell_type": "code",
   "execution_count": null,
   "id": "05e016f9-2055-4885-8416-cc3aa2968242",
   "metadata": {
    "tags": []
   },
   "outputs": [],
   "source": [
    "service_context = ServiceContext.from_defaults(llm=llm)\n",
    "set_global_service_context(service_context=service_context)"
   ]
  },
  {
   "cell_type": "markdown",
   "id": "71fddd07-ff4c-44d4-82af-64e2e416e853",
   "metadata": {
    "tags": []
   },
   "source": [
    "## Data Loading and Indexing"
   ]
  },
  {
   "cell_type": "markdown",
   "id": "e3c1a778-fd5a-4249-9704-580c52cacb10",
   "metadata": {
    "tags": []
   },
   "source": [
    "Now, we load and parse 2 PDFs (Annual Reports of Zomato and Tata Motors for FY 2023-2024).    \n",
    "Under the hood, the PDFs are converted to plain text `Document` objects, separate by page.  \n",
    "\n",
    "> Note: this operation might take a while to run, since each document is more than 100 pages."
   ]
  },
  {
   "cell_type": "code",
   "execution_count": null,
   "id": "dd0ba028-1e70-4164-8af1-5f1df0ea76a9",
   "metadata": {
    "tags": []
   },
   "outputs": [],
   "source": [
    "tata_docs = SimpleDirectoryReader(input_files=[\"tata-motor-IAR-2023-24.pdf\"]).load_data()\n",
    "zomato_docs = SimpleDirectoryReader(input_files=[\"Zomato_Annual_Report_2023-24.pdf\"]).load_data()"
   ]
  },
  {
   "cell_type": "code",
   "execution_count": null,
   "id": "d026ef11-ebc5-4ec3-9aab-8e065cd7f8a9",
   "metadata": {
    "tags": []
   },
   "outputs": [],
   "source": [
    "print(f'Loaded Tata Motors report with {len(tata_docs)} pages')\n",
    "print(f'Loaded Zomato report with {len(zomato_docs)} pages')"
   ]
  },
  {
   "cell_type": "markdown",
   "id": "fd122d0d-2da6-4f46-aa2a-8a0049ad8694",
   "metadata": {},
   "source": [
    "Now, we can build an (in-memory) `VectorStoreIndex` over the documents that we've loaded.  \n",
    "\n",
    "> Note: this operation might take a while to run, since it calls OpenAI API for computing vector embedding over document chunks."
   ]
  },
  {
   "cell_type": "code",
   "execution_count": null,
   "id": "1e0b6e4c-2255-42cf-be88-0fe75a945d85",
   "metadata": {
    "tags": []
   },
   "outputs": [],
   "source": [
    "tata_index = VectorStoreIndex.from_documents(tata_docs)\n",
    "zomato_index = VectorStoreIndex.from_documents(zomato_docs)"
   ]
  },
  {
   "cell_type": "markdown",
   "id": "8f5fdd5b-4c02-43b3-9ac6-cb42003350ca",
   "metadata": {
    "tags": []
   },
   "source": [
    "## Simple QA"
   ]
  },
  {
   "cell_type": "markdown",
   "id": "a86b9ba7-e9b9-498d-88f5-c6991c7cafa7",
   "metadata": {
    "tags": []
   },
   "source": [
    "Now we are ready to run some queries against our indices!  \n",
    "To do so, we first configure a `QueryEngine`, which just captures a set of configurations for how we want to query the underlying index.\n",
    "\n",
    "For a `VectorStoreIndex`, the most common configuration to adjust is `similarity_top_k` which controls how many document chunks (which we call `Node` objects) are retrieved to use as context for answering our question."
   ]
  },
  {
   "cell_type": "code",
   "execution_count": null,
   "id": "82466534-c3d8-4619-ab1b-4abcd05c8ba7",
   "metadata": {
    "tags": []
   },
   "outputs": [],
   "source": [
    "tata_engine = tata_index.as_query_engine(similarity_top_k=3)"
   ]
  },
  {
   "cell_type": "code",
   "execution_count": null,
   "id": "ff449977-2c7c-433f-b303-ff1d7b66c7b3",
   "metadata": {
    "tags": []
   },
   "outputs": [],
   "source": [
    "zomato_engine = zomato_index.as_query_engine(similarity_top_k=3)"
   ]
  },
  {
   "cell_type": "markdown",
   "id": "633d6126-8b94-4653-980f-0946d92df36a",
   "metadata": {
    "tags": []
   },
   "source": [
    "Let's see some queries in action!"
   ]
  },
  {
   "cell_type": "code",
   "execution_count": null,
   "id": "18df061f-238d-4a27-8fd6-1037b0098ae8",
   "metadata": {
    "tags": []
   },
   "outputs": [],
   "source": [
    "response = await tata_engine.aquery('What is the Profit After Tax of Tata Motors in 2023? Answer in millions with page reference')"
   ]
  },
  {
   "cell_type": "code",
   "execution_count": null,
   "id": "0e2ab622-e76f-43b6-aea3-122c8a6946de",
   "metadata": {
    "tags": []
   },
   "outputs": [],
   "source": [
    "print(response)"
   ]
  },
  {
   "cell_type": "code",
   "execution_count": null,
   "id": "2e101199-454b-4aca-913b-20c9631909b8",
   "metadata": {
    "tags": []
   },
   "outputs": [],
   "source": [
    "response = await uber_engine.aquery('What is the Profit After Tax of Uber in 2023? Answer in millions, with page reference')"
   ]
  },
  {
   "cell_type": "code",
   "execution_count": null,
   "id": "82b9cced-f7cf-49e4-965a-ee7c45baae7f",
   "metadata": {
    "tags": []
   },
   "outputs": [],
   "source": [
    "print(response)"
   ]
  },
  {
   "cell_type": "markdown",
   "id": "ee379703-68d1-4a88-a21b-a6e74e78cc91",
   "metadata": {
    "tags": []
   },
   "source": [
    "## Advanced QA - Compare and Contrast"
   ]
  },
  {
   "cell_type": "markdown",
   "id": "668dffa8-1eb3-4209-913a-ed7debe7bee8",
   "metadata": {
    "tags": []
   },
   "source": [
    "For more complex financial analysis, one often needs to reference multiple documents.  \n",
    "\n",
    "As a example, let's take a look at how to do compare-and-contrast queries over both Tata Motors and Zomato financials.  \n",
    "For this, we build a `SubQuestionQueryEngine`, which breaks down a complex compare-and-contrast query, into simpler sub-questions to execute on respective sub query engine backed by individual indices."
   ]
  },
  {
   "cell_type": "code",
   "execution_count": null,
   "id": "8775650f-b164-478c-8129-9a8e6a0cdc97",
   "metadata": {
    "tags": []
   },
   "outputs": [],
   "source": [
    "query_engine_tools = [\n",
    "    QueryEngineTool(\n",
    "        query_engine=tata_engine, \n",
    "        metadata=ToolMetadata(name='tata_10k', description='Provides information about Tata Motors financials for year 2023')\n",
    "    ),\n",
    "    QueryEngineTool(\n",
    "        query_engine=uber_engine, \n",
    "        metadata=ToolMetadata(name='Zomato_10k', description='Provides information about Zomato financials for year 2023')\n",
    "    ),\n",
    "]\n",
    "\n",
    "s_engine = SubQuestionQueryEngine.from_defaults(query_engine_tools=query_engine_tools)"
   ]
  },
  {
   "cell_type": "markdown",
   "id": "6981caf5-38bb-4d5e-9068-b4874c62bfc9",
   "metadata": {
    "tags": []
   },
   "source": [
    "Let's see these queries in action!"
   ]
  },
  {
   "cell_type": "code",
   "execution_count": null,
   "id": "edd4bbb7-eef9-4b53-b05d-f91033635ac2",
   "metadata": {
    "tags": []
   },
   "outputs": [],
   "source": [
    "response = await s_engine.aquery('Compare and contrast the customer segments and geographies that grew the fastest')"
   ]
  },
  {
   "cell_type": "code",
   "execution_count": null,
   "id": "b631d68b-dd17-4afd-9ed7-da0131041c8b",
   "metadata": {
    "tags": []
   },
   "outputs": [],
   "source": [
    "print(response)"
   ]
  },
  {
   "cell_type": "code",
   "execution_count": null,
   "id": "6bbbdd5b-0076-48c8-b233-e2ba43d7a6de",
   "metadata": {
    "tags": []
   },
   "outputs": [],
   "source": [
    "response = await s_engine.aquery('Compare revenue growth of Tata Motors and Zomato from 2023 to 2024')"
   ]
  },
  {
   "cell_type": "code",
   "execution_count": null,
   "id": "fadf421e-5938-4031-81df-cfbfd347b674",
   "metadata": {
    "tags": []
   },
   "outputs": [],
   "source": [
    "print(response)"
   ]
  }
 ],
 "metadata": {
  "kernelspec": {
   "display_name": "Python 3 (ipykernel)",
   "language": "python",
   "name": "python3"
  },
  "language_info": {
   "codemirror_mode": {
    "name": "ipython",
    "version": 3
   },
   "file_extension": ".py",
   "mimetype": "text/x-python",
   "name": "python",
   "nbconvert_exporter": "python",
   "pygments_lexer": "ipython3",
   "version": "3.9.13"
  }
 },
 "nbformat": 4,
 "nbformat_minor": 5
}
